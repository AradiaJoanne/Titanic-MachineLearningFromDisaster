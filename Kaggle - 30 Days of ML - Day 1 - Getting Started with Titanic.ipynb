{
 "cells": [
  {
   "cell_type": "code",
   "execution_count": 1,
   "metadata": {},
   "outputs": [],
   "source": [
    "#Import Libraries\n",
    "import numpy as np \n",
    "import pandas as pd \n",
    "import os\n",
    "from sklearn.ensemble import RandomForestClassifier\n",
    "\n",
    "for dirname, _, filenames in os.walk('/kaggle/input'):\n",
    "    for filename in filenames:\n",
    "        print(os.path.join(dirname, filename))"
   ]
  },
  {
   "cell_type": "code",
   "execution_count": 2,
   "metadata": {},
   "outputs": [],
   "source": [
    "#Define training and test data\n",
    "trainData = pd.read_csv(\"train.csv\")\n",
    "testData = pd.read_csv(\"test.csv\")"
   ]
  },
  {
   "cell_type": "code",
   "execution_count": 3,
   "metadata": {},
   "outputs": [
    {
     "name": "stdout",
     "output_type": "stream",
     "text": [
      "Percentage of women who survived: 74.20382165605095%\n",
      "Percentage of men who survived: 18.890814558058924%\n"
     ]
    }
   ],
   "source": [
    "#Exploring a pattern\n",
    "#Find percentage of women who survived\n",
    "women = trainData.loc[trainData.Sex == 'female']['Survived']\n",
    "rateWomen = (sum(women)/len(women))*100\n",
    "\n",
    "print(f'Percentage of women who survived: {rateWomen}%')\n",
    "\n",
    "#Find percentage of men who survived\n",
    "men = trainData.loc[trainData.Sex == 'male']['Survived']\n",
    "rateMen = (sum(men)/len(men))*100\n",
    "\n",
    "print(f'Percentage of men who survived: {rateMen}%')"
   ]
  },
  {
   "cell_type": "code",
   "execution_count": 4,
   "metadata": {},
   "outputs": [
    {
     "name": "stdout",
     "output_type": "stream",
     "text": [
      "Your submission was sucessfully saved!\n"
     ]
    }
   ],
   "source": [
    "#Creating a RandomForestClassifier\n",
    "\n",
    "y = trainData['Survived']\n",
    "\n",
    "#State the columns to be used in the decision making \n",
    "features = ['Pclass', 'Sex', 'SibSp', 'Parch']\n",
    "X = pd.get_dummies(trainData[features])\n",
    "xTest = pd.get_dummies(testData[features])\n",
    "\n",
    "#Specify the model and params\n",
    "model = RandomForestClassifier(n_estimators = 100, max_depth = 5, random_state = 1)\n",
    "model.fit(X, y)\n",
    "predictions = model.predict(xTest)\n",
    "\n",
    "#State Outputs\n",
    "output = pd.DataFrame({'PassengerId': testData.PassengerId, 'Survived': predictions})\n",
    "output.to_csv('My Submission.csv', index = False)\n",
    "print('Your submission was sucessfully saved!')"
   ]
  },
  {
   "cell_type": "code",
   "execution_count": null,
   "metadata": {},
   "outputs": [],
   "source": []
  }
 ],
 "metadata": {
  "kernelspec": {
   "display_name": "Python 3",
   "language": "python",
   "name": "python3"
  },
  "language_info": {
   "codemirror_mode": {
    "name": "ipython",
    "version": 3
   },
   "file_extension": ".py",
   "mimetype": "text/x-python",
   "name": "python",
   "nbconvert_exporter": "python",
   "pygments_lexer": "ipython3",
   "version": "3.7.9"
  }
 },
 "nbformat": 4,
 "nbformat_minor": 4
}
